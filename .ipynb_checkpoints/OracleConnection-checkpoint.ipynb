{
 "cells": [
  {
   "cell_type": "code",
   "execution_count": 9,
   "id": "e2aa88ba-0171-496b-8637-2bf02edeca38",
   "metadata": {},
   "outputs": [],
   "source": [
    "import oracledb"
   ]
  },
  {
   "cell_type": "code",
   "execution_count": 10,
   "id": "6e3b70f9-3b32-4458-b10a-1364e5200a34",
   "metadata": {},
   "outputs": [
    {
     "ename": "OperationalError",
     "evalue": "DPY-6005: cannot connect to database (CONNECTION_ID=ctYBvI5swdQ7Yv5LnHcf2w==).\n[Errno 61] Connection refused",
     "output_type": "error",
     "traceback": [
      "\u001b[0;31m---------------------------------------------------------------------------\u001b[0m",
      "\u001b[0;31mConnectionRefusedError\u001b[0m                    Traceback (most recent call last)",
      "File \u001b[0;32msrc/oracledb/impl/thin/connection.pyx:279\u001b[0m, in \u001b[0;36moracledb.thin_impl.ThinConnImpl._connect_with_address\u001b[0;34m()\u001b[0m\n",
      "File \u001b[0;32msrc/oracledb/impl/thin/protocol.pyx:221\u001b[0m, in \u001b[0;36moracledb.thin_impl.Protocol._connect_phase_one\u001b[0;34m()\u001b[0m\n",
      "File \u001b[0;32msrc/oracledb/impl/thin/protocol.pyx:357\u001b[0m, in \u001b[0;36moracledb.thin_impl.Protocol._connect_tcp\u001b[0;34m()\u001b[0m\n",
      "File \u001b[0;32m~/miniconda3/lib/python3.10/socket.py:845\u001b[0m, in \u001b[0;36mcreate_connection\u001b[0;34m(address, timeout, source_address)\u001b[0m\n\u001b[1;32m    844\u001b[0m \u001b[38;5;28;01mtry\u001b[39;00m:\n\u001b[0;32m--> 845\u001b[0m     \u001b[38;5;28;01mraise\u001b[39;00m err\n\u001b[1;32m    846\u001b[0m \u001b[38;5;28;01mfinally\u001b[39;00m:\n\u001b[1;32m    847\u001b[0m     \u001b[38;5;66;03m# Break explicitly a reference cycle\u001b[39;00m\n",
      "File \u001b[0;32m~/miniconda3/lib/python3.10/socket.py:833\u001b[0m, in \u001b[0;36mcreate_connection\u001b[0;34m(address, timeout, source_address)\u001b[0m\n\u001b[1;32m    832\u001b[0m     sock\u001b[38;5;241m.\u001b[39mbind(source_address)\n\u001b[0;32m--> 833\u001b[0m \u001b[43msock\u001b[49m\u001b[38;5;241;43m.\u001b[39;49m\u001b[43mconnect\u001b[49m\u001b[43m(\u001b[49m\u001b[43msa\u001b[49m\u001b[43m)\u001b[49m\n\u001b[1;32m    834\u001b[0m \u001b[38;5;66;03m# Break explicitly a reference cycle\u001b[39;00m\n",
      "\u001b[0;31mConnectionRefusedError\u001b[0m: [Errno 61] Connection refused",
      "\nThe above exception was the direct cause of the following exception:\n",
      "\u001b[0;31mOperationalError\u001b[0m                          Traceback (most recent call last)",
      "Cell \u001b[0;32mIn[10], line 2\u001b[0m\n\u001b[1;32m      1\u001b[0m dsn \u001b[38;5;241m=\u001b[39m oracledb\u001b[38;5;241m.\u001b[39mmakedsn(\u001b[38;5;124m\"\u001b[39m\u001b[38;5;124mlocalhost\u001b[39m\u001b[38;5;124m\"\u001b[39m, \u001b[38;5;241m1522\u001b[39m, service_name\u001b[38;5;241m=\u001b[39m\u001b[38;5;124m\"\u001b[39m\u001b[38;5;124mstu\u001b[39m\u001b[38;5;124m\"\u001b[39m)\n\u001b[0;32m----> 2\u001b[0m connection \u001b[38;5;241m=\u001b[39m \u001b[43moracledb\u001b[49m\u001b[38;5;241;43m.\u001b[39;49m\u001b[43mconnect\u001b[49m\u001b[43m(\u001b[49m\u001b[43muser\u001b[49m\u001b[38;5;241;43m=\u001b[39;49m\u001b[38;5;124;43m\"\u001b[39;49m\u001b[38;5;124;43mora_anushat\u001b[39;49m\u001b[38;5;124;43m\"\u001b[39;49m\u001b[43m,\u001b[49m\u001b[43m \u001b[49m\u001b[43mpassword\u001b[49m\u001b[38;5;241;43m=\u001b[39;49m\u001b[38;5;124;43m\"\u001b[39;49m\u001b[38;5;124;43ma87607743\u001b[39;49m\u001b[38;5;124;43m\"\u001b[39;49m\u001b[43m,\u001b[49m\u001b[43m \u001b[49m\u001b[43mdsn\u001b[49m\u001b[38;5;241;43m=\u001b[39;49m\u001b[43mdsn\u001b[49m\u001b[43m)\u001b[49m\n\u001b[1;32m      4\u001b[0m cur \u001b[38;5;241m=\u001b[39m connection\u001b[38;5;241m.\u001b[39mcursor()\n\u001b[1;32m      5\u001b[0m \u001b[38;5;28;01mfor\u001b[39;00m row \u001b[38;5;129;01min\u001b[39;00m cur\u001b[38;5;241m.\u001b[39mexecute(\u001b[38;5;124m\"\u001b[39m\u001b[38;5;124mselect * from titles\u001b[39m\u001b[38;5;124m\"\u001b[39m):\n",
      "File \u001b[0;32m~/miniconda3/lib/python3.10/site-packages/oracledb/connection.py:1158\u001b[0m, in \u001b[0;36m_connection_factory.<locals>.connect\u001b[0;34m(dsn, pool, conn_class, params, **kwargs)\u001b[0m\n\u001b[1;32m   1156\u001b[0m     message \u001b[38;5;241m=\u001b[39m \u001b[38;5;124m\"\u001b[39m\u001b[38;5;124mpool must be an instance of oracledb.ConnectionPool\u001b[39m\u001b[38;5;124m\"\u001b[39m\n\u001b[1;32m   1157\u001b[0m     \u001b[38;5;28;01mraise\u001b[39;00m \u001b[38;5;167;01mTypeError\u001b[39;00m(message)\n\u001b[0;32m-> 1158\u001b[0m \u001b[38;5;28;01mreturn\u001b[39;00m \u001b[43mconn_class\u001b[49m\u001b[43m(\u001b[49m\u001b[43mdsn\u001b[49m\u001b[38;5;241;43m=\u001b[39;49m\u001b[43mdsn\u001b[49m\u001b[43m,\u001b[49m\u001b[43m \u001b[49m\u001b[43mpool\u001b[49m\u001b[38;5;241;43m=\u001b[39;49m\u001b[43mpool\u001b[49m\u001b[43m,\u001b[49m\u001b[43m \u001b[49m\u001b[43mparams\u001b[49m\u001b[38;5;241;43m=\u001b[39;49m\u001b[43mparams\u001b[49m\u001b[43m,\u001b[49m\u001b[43m \u001b[49m\u001b[38;5;241;43m*\u001b[39;49m\u001b[38;5;241;43m*\u001b[39;49m\u001b[43mkwargs\u001b[49m\u001b[43m)\u001b[49m\n",
      "File \u001b[0;32m~/miniconda3/lib/python3.10/site-packages/oracledb/connection.py:541\u001b[0m, in \u001b[0;36mConnection.__init__\u001b[0;34m(self, dsn, pool, params, **kwargs)\u001b[0m\n\u001b[1;32m    539\u001b[0m     \u001b[38;5;28;01melse\u001b[39;00m:\n\u001b[1;32m    540\u001b[0m         impl \u001b[38;5;241m=\u001b[39m thin_impl\u001b[38;5;241m.\u001b[39mThinConnImpl(dsn, params_impl)\n\u001b[0;32m--> 541\u001b[0m         \u001b[43mimpl\u001b[49m\u001b[38;5;241;43m.\u001b[39;49m\u001b[43mconnect\u001b[49m\u001b[43m(\u001b[49m\u001b[43mparams_impl\u001b[49m\u001b[43m)\u001b[49m\n\u001b[1;32m    542\u001b[0m \u001b[38;5;28;01melse\u001b[39;00m:\n\u001b[1;32m    543\u001b[0m     impl \u001b[38;5;241m=\u001b[39m thick_impl\u001b[38;5;241m.\u001b[39mThickConnImpl(dsn, params_impl)\n",
      "File \u001b[0;32msrc/oracledb/impl/thin/connection.pyx:381\u001b[0m, in \u001b[0;36moracledb.thin_impl.ThinConnImpl.connect\u001b[0;34m()\u001b[0m\n",
      "File \u001b[0;32msrc/oracledb/impl/thin/connection.pyx:377\u001b[0m, in \u001b[0;36moracledb.thin_impl.ThinConnImpl.connect\u001b[0;34m()\u001b[0m\n",
      "File \u001b[0;32msrc/oracledb/impl/thin/connection.pyx:337\u001b[0m, in \u001b[0;36moracledb.thin_impl.ThinConnImpl._connect_with_params\u001b[0;34m()\u001b[0m\n",
      "File \u001b[0;32msrc/oracledb/impl/thin/connection.pyx:318\u001b[0m, in \u001b[0;36moracledb.thin_impl.ThinConnImpl._connect_with_description\u001b[0;34m()\u001b[0m\n",
      "File \u001b[0;32msrc/oracledb/impl/thin/connection.pyx:284\u001b[0m, in \u001b[0;36moracledb.thin_impl.ThinConnImpl._connect_with_address\u001b[0;34m()\u001b[0m\n",
      "File \u001b[0;32m~/miniconda3/lib/python3.10/site-packages/oracledb/errors.py:181\u001b[0m, in \u001b[0;36m_raise_err\u001b[0;34m(error_num, context_error_message, cause, **args)\u001b[0m\n\u001b[1;32m    179\u001b[0m     message \u001b[38;5;241m=\u001b[39m \u001b[38;5;124mf\u001b[39m\u001b[38;5;124m\"\u001b[39m\u001b[38;5;132;01m{\u001b[39;00mmessage\u001b[38;5;132;01m}\u001b[39;00m\u001b[38;5;130;01m\\n\u001b[39;00m\u001b[38;5;132;01m{\u001b[39;00mcontext_error_message\u001b[38;5;132;01m}\u001b[39;00m\u001b[38;5;124m\"\u001b[39m\n\u001b[1;32m    180\u001b[0m error \u001b[38;5;241m=\u001b[39m _Error(message)\n\u001b[0;32m--> 181\u001b[0m \u001b[38;5;28;01mraise\u001b[39;00m error\u001b[38;5;241m.\u001b[39mexc_type(error) \u001b[38;5;28;01mfrom\u001b[39;00m \u001b[38;5;21;01mcause\u001b[39;00m\n",
      "\u001b[0;31mOperationalError\u001b[0m: DPY-6005: cannot connect to database (CONNECTION_ID=ctYBvI5swdQ7Yv5LnHcf2w==).\n[Errno 61] Connection refused"
     ]
    }
   ],
   "source": [
    "dsn = oracledb.makedsn(\"localhost\", 1522, service_name=\"stu\")\n",
    "connection = oracledb.connect(user=\"ora_anushat\", password=\"a87607743\", dsn=dsn)\n",
    "\n",
    "cur = connection.cursor()\n",
    "for row in cur.execute(\"select * from titles\"):\n",
    "    print(row)\n",
    "cur.close()"
   ]
  },
  {
   "cell_type": "code",
   "execution_count": null,
   "id": "5b59e7b9-4427-46a7-a47d-ce744b6b8907",
   "metadata": {},
   "outputs": [],
   "source": []
  }
 ],
 "metadata": {
  "kernelspec": {
   "display_name": "Python 3 (ipykernel)",
   "language": "python",
   "name": "python3"
  },
  "language_info": {
   "codemirror_mode": {
    "name": "ipython",
    "version": 3
   },
   "file_extension": ".py",
   "mimetype": "text/x-python",
   "name": "python",
   "nbconvert_exporter": "python",
   "pygments_lexer": "ipython3",
   "version": "3.10.13"
  }
 },
 "nbformat": 4,
 "nbformat_minor": 5
}
